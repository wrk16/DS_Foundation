{
 "cells": [
  {
   "cell_type": "markdown",
   "id": "a291c236",
   "metadata": {},
   "source": [
    "#### What is statistics ?\n",
    "Stats is the science of collecting, organizing and analyzing data to make better decisions.\n",
    "\n",
    "##### define data : facts or pieces of information that can be measured.\n",
    "    \n",
    "#### Types of stats:\n",
    "- ###### Descriptive stats\n",
    "it consists of organizing and summerizing data.\n",
    "descriptive statistics state facts and proven outcomes from a population\n",
    "Eg: what is the avg marks of the students in the class of 20 students.\n",
    "- ###### Inferential stats\n",
    "technique where in we use the data that we have measured to form conclusion.\n",
    "inferential statistics analyze samplings to make predictions about larger populations\n",
    "Eg: are the marks of the students of this class similar to the age of the maths class in the clg.\n",
    "\n",
    "#### Population(N) and Sample(n) :\n",
    "A population is the entire group that you want to draw conclusions about. A sample is the specific group that you will collect data from. The size of the sample is always less than the total size of the population.\n",
    "\n",
    "#### Sampling Techniques :\n",
    "1. Simple Random Sampling :  Every menber of the population(N) has an equal chance of being selected for your sample(n)\n",
    "\n",
    "2. Stratified Sampling : Where the population is split into non-overlapping groups(strata).\n",
    "\n",
    "3. Systematic Technique : (N)  --->  (n)th individual\n",
    "\n",
    "Eg: Mall -- Survey(covid)\n",
    "                         \n",
    "                         |---> do the survey for the 8th person\n",
    "                         Systematic sampling is a probability sampling method where researchers select members of the population at a regular interval – for example, by selecting every 15th person on a list of the population. If the population is in a random order, this can imitate the benefits of simple random sampling.\n",
    "                         \n",
    "4. Convenience Sampling : Convenience sampling is the most common type of non-probability sampling, which focuses on gaining information from participants (the sample) who are ‘convenient’ for the researcher to access.This sample method doesn’t require a random selection of participants based on any set of criteria (like demographic factors) — instead, researchers can subjectively select people at random, who are happy to be approached and become part of the research.\n"
   ]
  },
  {
   "cell_type": "markdown",
   "id": "176c0307",
   "metadata": {},
   "source": [
    "#### Variable : \n",
    "a property that can be taken on any value. Eg : ht={79,99,179,189,190}\n",
    "\n",
    "###### Two types of variables : \n",
    "1. Quantitative Variables : measured numerically like add, subs, multipy, divide\n",
    " Quantitative is again divided into two types : \n",
    "\n",
    "                Discrete : These are variables for which the values it can take are countable and have a finite number of possibilities. Eg. whole no., etc\n",
    "                Continuous : These are variables for which the values are not countable and have an infinite number of possibilities. Eg. age, height,etc\n",
    "                \n",
    "2. Qualitative Variables / Categorical variables : qualitative variables (also referred as categorical variables or factors in R) are variables that are not numerical and which values fit into categories. Eg. gender(male & female), blood group, marital status, etc              \n"
   ]
  },
  {
   "cell_type": "markdown",
   "id": "5d7414f3",
   "metadata": {},
   "source": [
    "#### Variable Measurement Scale : \n",
    "Variables are measurement using an instrument, device, or computer. The scale of the variable measured drastically affects the type of analytical techniques that can be used on the data, and what conclusions can be drawn from the data. There are four scales of measurement, nominal, ordinal, interval, and ratio. The least amount of information is contained in nominal scale data, while the most amount of information can be obtained from ratio scale \n",
    "\n",
    "1. Nominal : Nominal scales assign numbers as labels to identify objects or classes of objects. The assigned numbers carry no additional meaning except as identifiers. (catagories matter only)\n",
    "\n",
    "2. Odinal : Ordinal Scale is defined as a variable measurement scale used to simply depict the order of variables and not the difference between each variable(value). These scales generally depict non-mathematical ideas such as frequency, satisfaction, happiness, a degree of pain, etc. (catagories and rank order matter only)\n",
    "\n",
    "3. Interval : The interval scale is a quantitative measurement scale where there is order, the difference between the two variables is meaningful and equal, and the presence of zero is arbitrary. It measures variables that exist along a common scale at equal intervals. (catagories, rank order and equal spacing matter)\n",
    "\n",
    "4. Ratio : A ratio scale is a quantitative scale where there is a true zero and equal intervals between neighboring points. Unlike on an interval scale, a zero on a ratio scale means there is a total absence of the variable you are measuring. (catagories, rank order, equal spacing and true zero matter)"
   ]
  },
  {
   "cell_type": "markdown",
   "id": "f0db38f8",
   "metadata": {},
   "source": [
    "#### Frequency Distribution :\n",
    "The frequency of a value is the number of times it occurs in a dataset. A frequency distribution is the pattern of frequencies of a variable. It’s the number of times each possible value of a variable occurs in a dataset.\n",
    "\n",
    "###### Types of frequency distributions\n",
    "There are four types of frequency distributions:\n",
    "\n",
    "1. Ungrouped frequency distributions: The number of observations of each value of a variable. \n",
    "\n",
    "        *  You can use this type of frequency distribution for categorical variables.\n",
    "2. Grouped frequency distributions: The number of observations of each class interval of a variable. Class intervals are ordered groupings of a variable’s values. \n",
    "\n",
    "          * You can use this type of frequency distribution for quantitative variables.\n",
    "3. Relative frequency distributions: The proportion of observations of each value or class interval of a variable. \n",
    "\n",
    "          * You can use this type of frequency distribution for any type of variable when you’re more interested in comparing frequencies than the actual number of observations.\n",
    "4. Cumulative frequency distributions: The sum of the frequencies less than or equal to each value or class interval of a variable.\n",
    "\n",
    "           * You can use this type of frequency distribution for ordinal or quantitative variables when you want to understand how often observations fall below certain values.\n",
    "           \n",
    "###### Bar graph Vs Histogram : A bar graph is used to compare discrete or categorical variables in a graphical format whereas a histogram depicts the frequency distribution of variables in a dataset.         "
   ]
  },
  {
   "cell_type": "code",
   "execution_count": null,
   "id": "8459fa26",
   "metadata": {},
   "outputs": [],
   "source": []
  }
 ],
 "metadata": {
  "kernelspec": {
   "display_name": "Python 3 (ipykernel)",
   "language": "python",
   "name": "python3"
  },
  "language_info": {
   "codemirror_mode": {
    "name": "ipython",
    "version": 3
   },
   "file_extension": ".py",
   "mimetype": "text/x-python",
   "name": "python",
   "nbconvert_exporter": "python",
   "pygments_lexer": "ipython3",
   "version": "3.11.5"
  }
 },
 "nbformat": 4,
 "nbformat_minor": 5
}
