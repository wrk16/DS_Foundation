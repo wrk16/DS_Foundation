{
 "cells": [
  {
   "cell_type": "markdown",
   "id": "5dd248c9",
   "metadata": {},
   "source": [
    "## Topics :\n",
    "- Probability\n",
    "- Permutation and Combination\n",
    "- Confidence Interval\n",
    "- p-value\n",
    "- Hypothesis Testing"
   ]
  },
  {
   "cell_type": "code",
   "execution_count": 1,
   "id": "00d0f2eb",
   "metadata": {},
   "outputs": [
    {
     "name": "stderr",
     "output_type": "stream",
     "text": [
      "C:\\Users\\Queen\\anaconda3\\Lib\\site-packages\\pandas\\core\\arrays\\masked.py:60: UserWarning: Pandas requires version '1.3.6' or newer of 'bottleneck' (version '1.3.5' currently installed).\n",
      "  from pandas.core import (\n"
     ]
    }
   ],
   "source": [
    "import numpy as np\n",
    "import scipy.stats as st\n",
    "import matplotlib.pyplot as plt\n",
    "import seaborn as sns"
   ]
  },
  {
   "cell_type": "markdown",
   "id": "c7eddf97",
   "metadata": {},
   "source": [
    "### What is probability ? \n",
    "- Probability is a measure of the likelihood of an event.\n",
    "\n",
    "        Eg : Rolling of a dice {1,2,3,4,5,6}\n",
    "        P(6) = (Number of ways an event can occur) / (Number of possible outcomes)"
   ]
  },
  {
   "cell_type": "markdown",
   "id": "87d2665c",
   "metadata": {},
   "source": [
    "###### Addition Rule (Probability, \"or\") : There exist two concepts in this rule.\n",
    "1. Mutual Exclusive Event : \n",
    "\n",
    "       * Two events are mutually exclusive if they cannot occur at the same time.Like, in a rolling of a dice you can get either of these {1,2,3,4,5,6} at a time and not {1,2}.Similarly, in tossing a coin you can get either head or tail and not both at the same time.\n",
    "       * Add.Rule => P(A or B) = P(A)+P(B)\n",
    "        \n",
    "2. Non- Mutual Exclusive Event : \n",
    "\n",
    "       * Multiple events can occur at the same time. Like in a deck of cards different cards can come at the same time.\n",
    "       *  Add.Rule => P(A or B) = P(A)+P(B)-P(A and B)\n",
    "       \n",
    "###### Multiplicative Rule : There exist two concepts in this rule.\n",
    "1. Independent Events : \n",
    "\n",
    "        * If the outcome of one event does not affect the outcome of another, then those events are referred to as independent events. The multiplication rule of probability for dependent events can be extended for the independent events. \n",
    "        \n",
    "        * We have, P(A ∩ B) = P(A) P(B | A), so if the events A and B are independent, then, P(B | A) = P(B), and thus, the above theorem reduces to \n",
    "        P(A ∩ B) = P(A) P(B). That means that the probability that both of these occur simultaneously is the product of their respective probabilities.\n",
    "        \n",
    "2. Dependent Events : \n",
    "\n",
    "        * If the outcome of one event affects the outcome of the other, then those events are referred to as dependent events. Sometimes, the occurring of the first event impacts the probability of the second event. \n",
    "        \n",
    "        * We have, P(A ∩ B) = P(A) P(B | A), where A and B are independent events.\n",
    "        \n",
    "#### Multiple Independent Observations :\n",
    "Let's return to coin flipping to illustrate situations where we have an event consisting of multiple independent observations. For example, the probability of throwing two consecutive heads is: $$ P(\\text{HH}) = \\frac{1}{4} = 0.25 $$ ...because there is one HH event in the sample set of four possible events ($\\Omega$ = {HH, HT, TH, TT}).\n",
    "\n",
    "Likewise, the probability of throwing *three* consecutive heads is: $$ P(\\text{HHH}) = \\frac{1}{8} = 0.125 $$ ...because there is one HHH event in the sample set of eight possible events ($\\Omega$ = {HHH, HHT, HTH, THH, HTT, THT, TTH, TTT}).\n",
    "\n",
    "As final examples, the probability of throwing exactly two heads in three tosses is $ P = \\frac{3}{8} = 0.375 $ while the probability of throwing at least two heads in three tosses is $ P = \\frac{4}{8} = 0.5 $."
   ]
  },
  {
   "cell_type": "markdown",
   "id": "6a797ffb",
   "metadata": {},
   "source": [
    "**Exercises**:\n",
    "\n",
    "1. What is the probability of drawing the ace of spades twice in a row? (Assume that any card drawn on the first draw will be put back in the deck before the second draw.)\n",
    "2. You draw a card from a deck of cards. After replacing the drawn card back in the deck and shuffling thoroughly, what is the probability of drawing the same card again?\n",
    "3. Use $n \\choose k$ to calculate the probability of throwing three heads in five coin tosses.\n",
    "4. Create a Python method that solves exercise 3 and incorporates the $n \\choose k$ formula $\\frac{n!}{k!(n - k)!}$. With the method in hand, calculate the probability of -- in five tosses -- throwing each of zero, one, two, three, four, and five heads."
   ]
  },
  {
   "cell_type": "markdown",
   "id": "74b1e100",
   "metadata": {},
   "source": [
    "1. $$ P(\\text{ace of spades}) \\times P(\\text{ace of spades}) = \\left(\\frac{1}{52}\\right)^2 = \\frac{1}{2704} = 0.00037 = 0.037\\% $$"
   ]
  },
  {
   "cell_type": "markdown",
   "id": "2a71e744",
   "metadata": {},
   "source": [
    "2. $$ P(\\text{any card}) = \\frac{52}{52} = 1 $$\n",
    "$$ P(\\text{same card as first draw}) = \\frac{1}{52} \\approx 0.019 $$\n",
    "$$ P(\\text{any card})P(\\text{same card as first draw}) = (1)(\\frac{1}{52}) = \\frac{1}{52} \\approx 0.019$$"
   ]
  },
  {
   "cell_type": "markdown",
   "id": "376c5c55",
   "metadata": {},
   "source": [
    "3. $$ {n \\choose k} = {5 \\choose 3} = \\frac{5!}{3!(5 - 3)!} = \\frac{5!}{(3!)(2!)} = \\frac{5 \\times 4 \\times 3 \\times 2 \\times 1}{(3 \\times 2 \\times 1)(2 \\times 1)} = \\frac{120}{(6)(2)} = \\frac{120}{12} = 10 $$\n",
    "\n",
    "$$P = \\frac{10}{2^n} = \\frac{10}{2^5} = \\frac{10}{32} = 0.3125 $$"
   ]
  },
  {
   "cell_type": "code",
   "execution_count": 2,
   "id": "b533e624",
   "metadata": {},
   "outputs": [],
   "source": [
    "from math import factorial\n",
    "def conflip_prob(n,k):\n",
    "    n_choose_k = factorial(n) / (factorial(k) * factorial(n-k))\n",
    "    return (n_choose_k) / 2**n"
   ]
  },
  {
   "cell_type": "code",
   "execution_count": 3,
   "id": "1ccdb151",
   "metadata": {},
   "outputs": [
    {
     "data": {
      "text/plain": [
       "0.3125"
      ]
     },
     "execution_count": 3,
     "metadata": {},
     "output_type": "execute_result"
    }
   ],
   "source": [
    "conflip_prob(5,3)"
   ]
  },
  {
   "cell_type": "code",
   "execution_count": 4,
   "id": "9a4343ab",
   "metadata": {},
   "outputs": [
    {
     "data": {
      "text/plain": [
       "[0.03125, 0.15625, 0.3125, 0.3125, 0.15625, 0.03125]"
      ]
     },
     "execution_count": 4,
     "metadata": {},
     "output_type": "execute_result"
    }
   ],
   "source": [
    "[conflip_prob(5,h) for h in range(6)]"
   ]
  },
  {
   "cell_type": "markdown",
   "id": "787d59d9",
   "metadata": {},
   "source": [
    "#### The Law of Large Numbers\n",
    "The **law of large numbers** states that the more experiments we run, the closer we will tend to get to the expected probability.\n",
    "\n",
    "Let's run some code to examine this in practice. To start, we'll create a vector of exponentially increasing $n$umbers of coin tosses per experiment:"
   ]
  },
  {
   "cell_type": "code",
   "execution_count": 5,
   "id": "1a5e84c0",
   "metadata": {},
   "outputs": [],
   "source": [
    "ns = np.array([2, 4, 8, 16, 32, 64, 128, 256, 512, 1024, 2048, 4096])"
   ]
  },
  {
   "cell_type": "code",
   "execution_count": 6,
   "id": "aa5ad112",
   "metadata": {},
   "outputs": [],
   "source": [
    "np.random.seed(2) # for reproduction"
   ]
  },
  {
   "cell_type": "markdown",
   "id": "59f70cb3",
   "metadata": {},
   "source": [
    "We will discuss the `binomial()` method in more details later. For now it suffices to think of its two arguments as *number of coin flips in experiment* and *probability of heads*, while it returns the number of flips that are heads in the experiment."
   ]
  },
  {
   "cell_type": "code",
   "execution_count": 7,
   "id": "d96aceb3",
   "metadata": {},
   "outputs": [
    {
     "data": {
      "text/plain": [
       "0"
      ]
     },
     "execution_count": 7,
     "metadata": {},
     "output_type": "execute_result"
    }
   ],
   "source": [
    "np.random.binomial(1,0.5)"
   ]
  },
  {
   "cell_type": "code",
   "execution_count": 8,
   "id": "e9befdc5",
   "metadata": {},
   "outputs": [
    {
     "data": {
      "text/plain": [
       "[0, 2, 4, 8, 15, 31, 68, 124, 245, 521, 1028, 2090]"
      ]
     },
     "execution_count": 8,
     "metadata": {},
     "output_type": "execute_result"
    }
   ],
   "source": [
    "heads_count = [np.random.binomial(n, 0.5) for n in ns]\n",
    "heads_count"
   ]
  },
  {
   "cell_type": "code",
   "execution_count": 9,
   "id": "2b94c2db",
   "metadata": {},
   "outputs": [
    {
     "data": {
      "text/plain": [
       "array([0.        , 0.5       , 0.5       , 0.5       , 0.46875   ,\n",
       "       0.484375  , 0.53125   , 0.484375  , 0.47851562, 0.50878906,\n",
       "       0.50195312, 0.51025391])"
      ]
     },
     "execution_count": 9,
     "metadata": {},
     "output_type": "execute_result"
    }
   ],
   "source": [
    "proportion_heads = heads_count/ns\n",
    "proportion_heads"
   ]
  },
  {
   "cell_type": "code",
   "execution_count": 10,
   "id": "aea7584b",
   "metadata": {},
   "outputs": [
    {
     "data": {
      "image/png": "[encoded data removed]",
      "text/plain": [
       "<Figure size 640x480 with 1 Axes>"
      ]
     },
     "metadata": {},
     "output_type": "display_data"
    }
   ],
   "source": [
    "fig, ax = plt.subplots()\n",
    "plt.xlabel('Number of coin flips in experiment')\n",
    "plt.ylabel('Proportion of flips that are heads')\n",
    "plt.axhline(0.5, color='orange')\n",
    "_ = ax.scatter(ns, proportion_heads)"
   ]
  },
  {
   "cell_type": "markdown",
   "id": "e8e59b85",
   "metadata": {},
   "source": [
    "### Understanding Permutations and Combinations :\n",
    "Before diving into code, let's clarify these terms:\n",
    "\n",
    "**Permutation:** An arrangement of objects in a specific order. For example, the permutations of the digits 1, 2, and 3 are: 123, 132, 213, 231, 312, and 321.\n",
    "\n",
    "**Combination:** A selection of objects where order doesn't matter. For example, the combinations of two digits from 1, 2, and 3 are: (1, 2), (1, 3), and (2, 3).\n",
    "\n",
    "###### Python Implementation using itertools :\n",
    "Python's itertools module provides efficient functions for generating permutations and combinations."
   ]
  },
  {
   "cell_type": "code",
   "execution_count": 11,
   "id": "ba710fa5",
   "metadata": {},
   "outputs": [
    {
     "name": "stdout",
     "output_type": "stream",
     "text": [
      "[(1, 2, 3), (1, 3, 2), (2, 1, 3), (2, 3, 1), (3, 1, 2), (3, 2, 1)]\n"
     ]
    }
   ],
   "source": [
    "import itertools\n",
    "\n",
    "def generate_permutations(elements):\n",
    "  return list(itertools.permutations(elements))\n",
    "\n",
    "# Example usage:\n",
    "elements = [1, 2, 3]\n",
    "permutations = generate_permutations(elements)\n",
    "print(permutations)\n",
    "# formula used : nPr = n! / (n-r)!"
   ]
  },
  {
   "cell_type": "code",
   "execution_count": 12,
   "id": "0e8c921a",
   "metadata": {},
   "outputs": [
    {
     "name": "stdout",
     "output_type": "stream",
     "text": [
      "[(1, 2), (1, 3), (1, 4), (2, 3), (2, 4), (3, 4)]\n"
     ]
    }
   ],
   "source": [
    "import itertools\n",
    "\n",
    "def generate_combinations(elements, r):\n",
    "  return list(itertools.combinations(elements, r))\n",
    "\n",
    "# Example usage:\n",
    "elements = [1, 2, 3, 4]\n",
    "r = 2\n",
    "combinations = generate_combinations(elements, r)\n",
    "print(combinations)\n",
    "# formula used : nCr = n! / (r! * (n-r)!)"
   ]
  },
  {
   "cell_type": "markdown",
   "id": "96248657",
   "metadata": {},
   "source": [
    "### Applications in Machine Learning\n",
    "While these functions might seem purely mathematical, they have significant applications in machine learning:\n",
    "\n",
    "**Feature Engineering:**\n",
    "\n",
    "- Creating new features by combining existing ones.\n",
    "- Generating polynomial features for regression models.\n",
    "\n",
    "**Hyperparameter Tuning:**\n",
    "\n",
    "- Exploring different combinations of hyperparameters for model optimization.\n",
    "\n",
    "**Model Selection:**\n",
    "\n",
    "- Comparing different model architectures or algorithms.\n",
    "\n",
    "**Sampling:**\n",
    "\n",
    "- Creating subsets of data for training or validation.\n",
    "\n",
    "**Beyond itertools:**\n",
    "For larger datasets or more complex scenarios, you might need custom implementations or libraries like numpy or scipy. These libraries often provide optimized functions for numerical computations."
   ]
  },
  {
   "cell_type": "code",
   "execution_count": 13,
   "id": "cea8e0c7",
   "metadata": {},
   "outputs": [
    {
     "name": "stdout",
     "output_type": "stream",
     "text": [
      "[[ 1.  1.  2.  1.  4.]\n",
      " [ 1.  3.  4.  9. 16.]\n",
      " [ 1.  5.  6. 25. 36.]]\n"
     ]
    }
   ],
   "source": [
    "# Generating polynomial features up to the given degree.\n",
    "'''      X: A numpy array of features.\n",
    "        degree: The maximum degree of polynomial features.\n",
    "and Returns:A numpy array of polynomial features.\n",
    "import numpy as np\n",
    "'''\n",
    "import numpy as np\n",
    "def generate_polynomial_features(X, degree):\n",
    "    n_samples, n_features = X.shape\n",
    "    X_new = np.ones((n_samples, 1))\n",
    "    for i in range(1, degree + 1):\n",
    "        for j in range(n_features):\n",
    "            X_new = np.hstack((X_new, X[:, j:j+1] ** i))\n",
    "    return X_new\n",
    "\n",
    "def main():\n",
    "    # Sample data\n",
    "    X = np.array([[1, 2], [3, 4], [5, 6]])\n",
    "    degree = 2\n",
    "\n",
    "    # Generate polynomial features\n",
    "    X_poly = generate_polynomial_features(X, degree)\n",
    "\n",
    "    print(X_poly)\n",
    "\n",
    "if __name__ == \"__main__\":\n",
    "    main()\n"
   ]
  },
  {
   "cell_type": "markdown",
   "id": "d5e5a71e",
   "metadata": {},
   "source": [
    "### Confidence Intervals\n",
    "The confidence interval is the range of values that you expect your estimate to fall between a certain percentage of the time if you run your experiment again or re-sample the population in the same way. It is used to estimate the precision of a sample statistic. \n",
    "\n",
    "The confidence level is the percentage of times you expect to reproduce an estimate between the upper and lower bounds of the confidence interval, and is set by the alpha value.\n",
    "\n",
    "**For a normal distribution:\n",
    "Confidence Interval = sample statistic ± (critical value) * (standard error)**\n",
    "\n",
    "Where:\n",
    "- Sample statistic: The mean, proportion, or other statistic calculated from the sample.\n",
    "- Critical value: The z-score or t-score corresponding to the desired confidence level.\n",
    "- Standard error: The standard deviation of the sampling distribution."
   ]
  },
  {
   "cell_type": "code",
   "execution_count": 14,
   "id": "1a334b0a",
   "metadata": {},
   "outputs": [
    {
     "name": "stdout",
     "output_type": "stream",
     "text": [
      "(9.472910575888685, 10.294790425486672)\n"
     ]
    }
   ],
   "source": [
    "import numpy as np\n",
    "import scipy.stats as stats   # scipy.stats for statistics \n",
    "\n",
    "# Sample data\n",
    "data = np.random.normal(loc=10, scale=2, size=100)\n",
    "\n",
    "# Calculate confidence interval\n",
    "confidence_level = 0.95\n",
    "n = len(data)\n",
    "mean = np.mean(data)\n",
    "std_err = np.std(data) / np.sqrt(n)\n",
    "z_critical = stats.norm.ppf(1 - (1 - confidence_level) / 2)\n",
    "margin_of_error = z_critical * std_err\n",
    "confidence_interval = (mean - margin_of_error, mean + margin_of_error)\n",
    "\n",
    "print(confidence_interval)\n"
   ]
  },
  {
   "cell_type": "markdown",
   "id": "67fb582c",
   "metadata": {},
   "source": [
    "### P-value\n",
    "The p-value is the probability of obtaining results as extreme as the observed results, assuming the null hypothesis is true. It is used in hypothesis testing to determine the significance of the results.   \n",
    "\n",
    "**The p-value is calculated using the appropriate test statistic (z-score, t-score, chi-square, etc.) and the distribution of the test statistic under the null hypothesis.**"
   ]
  },
  {
   "cell_type": "code",
   "execution_count": 15,
   "id": "c8a4438c",
   "metadata": {},
   "outputs": [
    {
     "name": "stdout",
     "output_type": "stream",
     "text": [
      "0.0001747550666923958\n"
     ]
    }
   ],
   "source": [
    "import scipy.stats as stats\n",
    "\n",
    "# Sample data\n",
    "data1 = np.random.normal(loc=10, scale=2, size=50)\n",
    "data2 = np.random.normal(loc=12, scale=2, size=50)\n",
    "\n",
    "# Perform a two-sample t-test\n",
    "t_statistic, p_value = stats.ttest_ind(data1, data2)\n",
    "\n",
    "print(p_value)\n"
   ]
  },
  {
   "cell_type": "markdown",
   "id": "04540e2a",
   "metadata": {},
   "source": [
    "### Hypothesis Testing\n",
    "Hypothesis testing is a statistical method used to determine whether there is enough evidence to reject a null hypothesis in favor of an alternative hypothesis.\n",
    "\n",
    "**Steps :**\n",
    "\n",
    "1. Formulate the null and alternative hypotheses:\n",
    "- Null hypothesis (H0): There is no difference between the groups or populations.\n",
    "- Alternative hypothesis (H1): There is a difference between the groups or populations.\n",
    "2. Choose a significance level (alpha): This is the probability of rejecting the null hypothesis when it is true.\n",
    "3. Calculate the test statistic: This is a measure of how far the sample data deviate from what is expected under the null hypothesis.\n",
    "4. Determine the p-value: This is the probability of obtaining results as extreme as the observed results, assuming the null hypothesis is true.\n",
    "5. Make a decision: If the p-value is less than the significance level, reject the null hypothesis. Otherwise, fail to reject the null hypothesis.   \n"
   ]
  },
  {
   "cell_type": "code",
   "execution_count": 16,
   "id": "199b9509",
   "metadata": {},
   "outputs": [
    {
     "name": "stdout",
     "output_type": "stream",
     "text": [
      "Reject the null hypothesis\n"
     ]
    }
   ],
   "source": [
    "import scipy.stats as stats\n",
    "\n",
    "# Sample data\n",
    "data1 = np.random.normal(loc=10, scale=2, size=50)\n",
    "data2 = np.random.normal(loc=12, scale=2, size=50)\n",
    "\n",
    "# Hypothesis test\n",
    "alpha = 0.05\n",
    "t_statistic, p_value = stats.ttest_ind(data1, data2)\n",
    "\n",
    "if p_value < alpha:\n",
    "    print(\"Reject the null hypothesis\")\n",
    "else:\n",
    "    print(\"Fail to reject the null hypothesis\")\n"
   ]
  },
  {
   "cell_type": "code",
   "execution_count": null,
   "id": "045b53cc",
   "metadata": {},
   "outputs": [],
   "source": []
  }
 ],
 "metadata": {
  "kernelspec": {
   "display_name": "Python 3 (ipykernel)",
   "language": "python",
   "name": "python3"
  },
  "language_info": {
   "codemirror_mode": {
    "name": "ipython",
    "version": 3
   },
   "file_extension": ".py",
   "mimetype": "text/x-python",
   "name": "python",
   "nbconvert_exporter": "python",
   "pygments_lexer": "ipython3",
   "version": "3.11.5"
  }
 },
 "nbformat": 4,
 "nbformat_minor": 5
}
